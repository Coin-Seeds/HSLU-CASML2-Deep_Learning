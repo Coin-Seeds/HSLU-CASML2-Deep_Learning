{
  "nbformat": 4,
  "nbformat_minor": 0,
  "metadata": {
    "colab": {
      "name": "Multiclass_classification_with_convolutional_neural_networks.ipynb",
      "provenance": []
    },
    "kernelspec": {
      "name": "python3",
      "display_name": "Python 3"
    }
  },
  "cells": [
    {
      "cell_type": "markdown",
      "metadata": {
        "id": "uSuXUMIVmhgo"
      },
      "source": [
        "# Multiclass Classification with Convolutional Neural Networks\n",
        "Version 1.0"
      ]
    },
    {
      "cell_type": "markdown",
      "metadata": {
        "id": "tJo_NK-nmqCf"
      },
      "source": [
        "(C) 2020 - Umberto Michelucci, Michela Sperti\n",
        "\n",
        "This notebook is part of the book _Applied Deep Learning: a case based approach, **2nd edition**_ from APRESS by [U. Michelucci](mailto:umberto.michelucci@toelt.ai) and [M. Sperti](mailto:michela.sperti@toelt.ai)."
      ]
    },
    {
      "cell_type": "markdown",
      "metadata": {
        "id": "31wfEV06mtro"
      },
      "source": [
        "The purpose of this notebook is to give a practical example (with a dataset taken from the real world) of a multiclass classification problem solved by means of a Convolutional Neural Network (CNN) architecture. It may be instructive to compare the results of this notebook with the ones of *Multiclass_classification_with_fully_connected_networks.ipynb* notebook, which solves the same problem, but with a simpler architecture."
      ]
    },
    {
      "cell_type": "markdown",
      "metadata": {
        "id": "V2wkdTiVmy1F"
      },
      "source": [
        "## Notebook Learning Goals"
      ]
    },
    {
      "cell_type": "markdown",
      "metadata": {
        "id": "6pqNL9dfm4Uj"
      },
      "source": [
        "At the end of the notebook you are going to know how to implement yourself a CNN architecture in Keras. Moreover, you will be able to to apply it to other image recognition problems."
      ]
    },
    {
      "cell_type": "markdown",
      "metadata": {
        "id": "UG0PGsm0GFGe"
      },
      "source": [
        "## Dataset Overview"
      ]
    },
    {
      "cell_type": "markdown",
      "metadata": {
        "id": "yZu1AsdvGHEh"
      },
      "source": [
        "**Context**\n",
        "\n",
        "Fashion-MNIST is a dataset of Zalando's article images (consisting of a training set of 60000 examples and a test set of 10000 examples). Each example is a 28x28 grayscale image, associated with a label from 10 classes. Zalando intends Fashion-MNIST to serve as a direct drop-in replacement for the original MNIST dataset for benchmarking machine learning algorithms. It shares the same image size and structure of training and testing splits.\n",
        "\n",
        "The original MNIST dataset contains a lot of handwritten digits. Members of the AI/ML/Data Science community love this dataset and use it as a benchmark to validate their algorithms. In fact, MNIST is often the first dataset researchers try. \"If it doesn't work on MNIST, it won't work at all\", they said. \"Well, if it does work on MNIST, it may still fail on others.\"\n",
        "Zalando seeks to replace the original MNIST dataset\n",
        "\n",
        "**Content**\n",
        "\n",
        "\n",
        "Each image is 28 pixels in height and 28 pixels in width, for a total of 784 pixels in total. Each pixel has a single pixel-value associated with it, indicating the lightness or darkness of that pixel, with higher numbers meaning darker. This pixel-value is an integer between 0 and 255. The training and test data sets have 785 columns. The first column consists of the class labels (see above), and represents the article of clothing. The rest of the columns contain the pixel-values of the associated image.\n",
        "\n",
        "To locate a pixel on the image, suppose that we have decomposed $x$ as $x = 28i + j$, where $i$ and $j$ are integers between 0 and 27. The pixel is located on row $i$ and column $j$ of a 28x28 matrix.\n",
        "For example, pixel31 indicates the pixel that is in the fourth column from the left, and the second row from the top.\n",
        "\n",
        "Each row of the dataset is a separate image. Column 1 is the class label.\n",
        "Remaining columns are pixel numbers (784 total). Each value is the darkness of the pixel (1 to 255).\n",
        "\n",
        "**Labels**\n",
        "\n",
        "Each training and test example is assigned to one of the following labels:\n",
        "- 0 T-shirt/top\n",
        "- 1 Trouser\n",
        "- 2 Pullover\n",
        "- 3 Dress\n",
        "- 4 Coat\n",
        "- 5 Sandal\n",
        "- 6 Shirt\n",
        "- 7 Sneaker\n",
        "- 8 Bag\n",
        "- 9 Ankle boot\n",
        "\n",
        "**Acknowledgements**\n",
        "\n",
        "Original dataset was downloaded from TensorFlow datasets catalog.\n",
        "\n",
        "**License**\n",
        "\n",
        "The MIT License (MIT) Copyright © [2017] Zalando SE, https://tech.zalando.com\n",
        "\n",
        "Permission is hereby granted, free of charge, to any person obtaining a copy of this software and associated documentation files (the “Software”), to deal in the Software without restriction, including without limitation the rights to use, copy, modify, merge, publish, distribute, sublicense, and/or sell copies of the Software, and to permit persons to whom the Software is furnished to do so, subject to the following conditions:\n",
        "\n",
        "The above copyright notice and this permission notice shall be included in all copies or substantial portions of the Software.\n",
        "\n",
        "THE SOFTWARE IS PROVIDED “AS IS”, WITHOUT WARRANTY OF ANY KIND, EXPRESS OR IMPLIED, INCLUDING BUT NOT LIMITED TO THE WARRANTIES OF MERCHANTABILITY, FITNESS FOR A PARTICULAR PURPOSE AND NONINFRINGEMENT. IN NO EVENT SHALL THE AUTHORS OR COPYRIGHT HOLDERS BE LIABLE FOR ANY CLAIM, DAMAGES OR OTHER LIABILITY, WHETHER IN AN ACTION OF CONTRACT, TORT OR OTHERWISE, ARISING FROM, OUT OF OR IN CONNECTION WITH THE SOFTWARE OR THE USE OR OTHER DEALINGS IN THE SOFTWARE."
      ]
    },
    {
      "cell_type": "markdown",
      "metadata": {
        "id": "jt0OZlORGtYM"
      },
      "source": [
        "## Libraries and Dataset Import"
      ]
    },
    {
      "cell_type": "markdown",
      "metadata": {
        "id": "H4Fr75NjGvv1"
      },
      "source": [
        "This section contains the necessary libraries (such as tensorflow or pandas) you need to import to run the notebook."
      ]
    },
    {
      "cell_type": "code",
      "metadata": {
        "id": "Crb9ktSmG1fV"
      },
      "source": [
        "# general libraries\n",
        "import pandas as pd\n",
        "import numpy as np\n",
        "import matplotlib.pyplot as plt\n",
        "\n",
        "# tensorflow libraries\n",
        "from tensorflow.keras.datasets import fashion_mnist\n",
        "import tensorflow as tf\n",
        "import tensorflow_docs as tfdocs\n",
        "import tensorflow_docs.modeling\n",
        "from tensorflow.keras import layers, models"
      ],
      "execution_count": null,
      "outputs": []
    },
    {
      "cell_type": "markdown",
      "metadata": {
        "id": "eKM7o9rBG1qw"
      },
      "source": [
        "The following cells are needed to **download** the dataset."
      ]
    },
    {
      "cell_type": "code",
      "metadata": {
        "id": "QWipOu2rG2mx"
      },
      "source": [
        "((trainX, trainY), (testX, testY)) = fashion_mnist.load_data()"
      ],
      "execution_count": null,
      "outputs": []
    },
    {
      "cell_type": "markdown",
      "metadata": {
        "id": "eSYd3iXOR3Oh"
      },
      "source": [
        "**Let's have a look at our data**:"
      ]
    },
    {
      "cell_type": "code",
      "metadata": {
        "colab": {
          "base_uri": "https://localhost:8080/"
        },
        "id": "iBD50AE2HwU_",
        "outputId": "0657b28b-ff53-41e8-af79-5a0a353ddeb4"
      },
      "source": [
        "print('Dimensions of the training dataset: ', trainX.shape)\n",
        "print('Dimensions of the test dataset: ', testX.shape)\n",
        "print('Dimensions of the training labels: ', trainY.shape)\n",
        "print('Dimensions of the test labels: ', testY.shape)"
      ],
      "execution_count": null,
      "outputs": [
        {
          "output_type": "stream",
          "text": [
            "Dimensions of the training dataset:  (60000, 28, 28)\n",
            "Dimensions of the test dataset:  (10000, 28, 28)\n",
            "Dimensions of the training labels:  (60000,)\n",
            "Dimensions of the test labels:  (10000,)\n"
          ],
          "name": "stdout"
        }
      ]
    },
    {
      "cell_type": "markdown",
      "metadata": {
        "id": "j2jKbxwcTrMb"
      },
      "source": [
        "## Dataset Preparation"
      ]
    },
    {
      "cell_type": "markdown",
      "metadata": {
        "id": "7fMAObnUTyb5"
      },
      "source": [
        "We now one-hot encode the labels and change the images dimensions, to get easy to use data for later. To know more about one-hot encoding process see the [Further Readings](#fr) section or refer to the hands-on chapter of the book about feed-forward neural networks."
      ]
    },
    {
      "cell_type": "code",
      "metadata": {
        "id": "WdQrfB_mZykL"
      },
      "source": [
        "labels_train = np.zeros((60000, 10))\n",
        "labels_train[np.arange(60000), trainY] = 1\n",
        "\n",
        "data_train = trainX.reshape(60000, 28, 28, 1)"
      ],
      "execution_count": null,
      "outputs": []
    },
    {
      "cell_type": "code",
      "metadata": {
        "id": "VEAUvO8WZ0LO"
      },
      "source": [
        "labels_test = np.zeros((10000, 10))\n",
        "labels_test[np.arange(10000), testY] = 1\n",
        "\n",
        "data_test = testX.reshape(10000, 28, 28, 1)"
      ],
      "execution_count": null,
      "outputs": []
    },
    {
      "cell_type": "code",
      "metadata": {
        "colab": {
          "base_uri": "https://localhost:8080/"
        },
        "id": "XejNsNYFZ0PV",
        "outputId": "6a0c150b-165a-4eee-8a8e-279abb87ef4e"
      },
      "source": [
        "print('Dimensions of the training dataset: ', data_train.shape)\n",
        "print('Dimensions of the test dataset: ', data_test.shape)\n",
        "print('Dimensions of the training labels: ', labels_train.shape)\n",
        "print('Dimensions of the test labels: ', labels_test.shape)"
      ],
      "execution_count": null,
      "outputs": [
        {
          "output_type": "stream",
          "text": [
            "Dimensions of the training dataset:  (60000, 28, 28, 1)\n",
            "Dimensions of the test dataset:  (10000, 28, 28, 1)\n",
            "Dimensions of the training labels:  (60000, 10)\n",
            "Dimensions of the test labels:  (10000, 10)\n"
          ],
          "name": "stdout"
        }
      ]
    },
    {
      "cell_type": "markdown",
      "metadata": {
        "id": "NIYqLZPea3GV"
      },
      "source": [
        "## Data Normalization"
      ]
    },
    {
      "cell_type": "markdown",
      "metadata": {
        "id": "EWZqPIM4a5v0"
      },
      "source": [
        "Let's normalize the training data dividing by 255.0 to get the values between 0 and 1."
      ]
    },
    {
      "cell_type": "code",
      "metadata": {
        "id": "y1v6CCnaa76t"
      },
      "source": [
        "data_train_norm = np.array(data_train/255.0)\n",
        "data_test_norm = np.array(data_test/255.0)"
      ],
      "execution_count": null,
      "outputs": []
    },
    {
      "cell_type": "markdown",
      "metadata": {
        "id": "-IqAZrSVEO67"
      },
      "source": [
        "## Convolutional Neural Network Model"
      ]
    },
    {
      "cell_type": "markdown",
      "metadata": {
        "id": "cyYbDfqeEnBc"
      },
      "source": [
        "Let us try to build one such a network to give you a feeling of how the process would work and how the code looks like. We will not do any hyperparameter tuning or optimization to keep the section understandable.\n",
        "\n",
        "Our CNN will be made of the following layers:\n",
        "- **CONV1**: 6 filters 5 x 5, stride $s=1$\n",
        "- We then apply **ReLU** to the output of the previous layer\n",
        "- **POOL1** with a window 2 × 2, stride $s=2$\n",
        "- **CONV2**: 16 Filters 5 × 5, stride $s=1$\n",
        "- We then apply **ReLU** to the output of the previous layer\n",
        "- **POOL2** with a window 2 × 2, stride $s=2$\n",
        "- **Fully Connected Layer** with 128 neurons with activation function ReLU\n",
        "- **Fully Connected Layer** with 10 neurons for classification of the Zalando dataset\n",
        "- **Softmax** output neuron\n",
        "\n",
        "Softmax function here is needed since we one-hot encoded the labels. To have more details about this, see the [Further Readings](#fr) section of the notebook or refer to the hands-on chapter of the book about feed-forward neural networks.\n"
      ]
    },
    {
      "cell_type": "code",
      "metadata": {
        "id": "MBlU5_N2EJ6-"
      },
      "source": [
        "def build_model():\n",
        "  # create model\n",
        "  model = models.Sequential()\n",
        "  model.add(layers.Conv2D(6, (5, 5), strides = (1, 1), activation = 'relu', input_shape = (28, 28, 1)))\n",
        "  model.add(layers.MaxPooling2D(pool_size = (2, 2), strides = (2, 2)))\n",
        "  model.add(layers.Conv2D(16, (5, 5), strides = (1, 1), activation = 'relu'))\n",
        "  model.add(layers.MaxPooling2D(pool_size = (2, 2), strides = (2, 2)))\n",
        "  model.add(layers.Flatten())\n",
        "  model.add(layers.Dense(128, activation = 'relu'))\n",
        "  model.add(layers.Dense(10, activation = 'softmax'))\n",
        "  # compile model\n",
        "  model.compile(loss = 'categorical_crossentropy', optimizer = 'adam', metrics = ['categorical_accuracy'])\n",
        "  return model"
      ],
      "execution_count": null,
      "outputs": []
    },
    {
      "cell_type": "code",
      "metadata": {
        "id": "3gdG4qqzI5nF"
      },
      "source": [
        "model = build_model()"
      ],
      "execution_count": null,
      "outputs": []
    },
    {
      "cell_type": "code",
      "metadata": {
        "colab": {
          "base_uri": "https://localhost:8080/"
        },
        "id": "Ymu43BtWI-5w",
        "outputId": "060cad73-035a-494c-d4df-3de9f3e9d2f1"
      },
      "source": [
        "model.summary()"
      ],
      "execution_count": null,
      "outputs": [
        {
          "output_type": "stream",
          "text": [
            "Model: \"sequential\"\n",
            "_________________________________________________________________\n",
            "Layer (type)                 Output Shape              Param #   \n",
            "=================================================================\n",
            "conv2d (Conv2D)              (None, 24, 24, 6)         156       \n",
            "_________________________________________________________________\n",
            "max_pooling2d (MaxPooling2D) (None, 12, 12, 6)         0         \n",
            "_________________________________________________________________\n",
            "conv2d_1 (Conv2D)            (None, 8, 8, 16)          2416      \n",
            "_________________________________________________________________\n",
            "max_pooling2d_1 (MaxPooling2 (None, 4, 4, 16)          0         \n",
            "_________________________________________________________________\n",
            "flatten (Flatten)            (None, 256)               0         \n",
            "_________________________________________________________________\n",
            "dense (Dense)                (None, 128)               32896     \n",
            "_________________________________________________________________\n",
            "dense_1 (Dense)              (None, 10)                1290      \n",
            "=================================================================\n",
            "Total params: 36,758\n",
            "Trainable params: 36,758\n",
            "Non-trainable params: 0\n",
            "_________________________________________________________________\n"
          ],
          "name": "stdout"
        }
      ]
    },
    {
      "cell_type": "markdown",
      "metadata": {
        "id": "VYbShXCFN84J"
      },
      "source": [
        "We now train the model."
      ]
    },
    {
      "cell_type": "code",
      "metadata": {
        "colab": {
          "base_uri": "https://localhost:8080/"
        },
        "id": "3AwtbN9UJHkz",
        "outputId": "5eb7d3e3-bf8a-4e5e-ee75-afbcdc8dfd6f"
      },
      "source": [
        "EPOCHS = 10\n",
        "\n",
        "history = model.fit(\n",
        "  data_train_norm, labels_train,\n",
        "  epochs = EPOCHS, verbose = 1,\n",
        "  batch_size = 100)"
      ],
      "execution_count": null,
      "outputs": [
        {
          "output_type": "stream",
          "text": [
            "Epoch 1/10\n",
            "600/600 [==============================] - 24s 39ms/step - loss: 0.6554 - categorical_accuracy: 0.7633\n",
            "Epoch 2/10\n",
            "600/600 [==============================] - 23s 38ms/step - loss: 0.4381 - categorical_accuracy: 0.8409\n",
            "Epoch 3/10\n",
            "600/600 [==============================] - 23s 38ms/step - loss: 0.3832 - categorical_accuracy: 0.8629\n",
            "Epoch 4/10\n",
            "600/600 [==============================] - 23s 38ms/step - loss: 0.3515 - categorical_accuracy: 0.8742\n",
            "Epoch 5/10\n",
            "600/600 [==============================] - 23s 38ms/step - loss: 0.3295 - categorical_accuracy: 0.8814\n",
            "Epoch 6/10\n",
            "600/600 [==============================] - 23s 38ms/step - loss: 0.3117 - categorical_accuracy: 0.8872\n",
            "Epoch 7/10\n",
            "600/600 [==============================] - 23s 38ms/step - loss: 0.2954 - categorical_accuracy: 0.8927\n",
            "Epoch 8/10\n",
            "600/600 [==============================] - 23s 38ms/step - loss: 0.2817 - categorical_accuracy: 0.8978\n",
            "Epoch 9/10\n",
            "600/600 [==============================] - 23s 38ms/step - loss: 0.2731 - categorical_accuracy: 0.9001\n",
            "Epoch 10/10\n",
            "600/600 [==============================] - 23s 38ms/step - loss: 0.2607 - categorical_accuracy: 0.9050\n"
          ],
          "name": "stdout"
        }
      ]
    },
    {
      "cell_type": "markdown",
      "metadata": {
        "id": "82Mu5ohzProZ"
      },
      "source": [
        "And we used the trained model on the test dataset."
      ]
    },
    {
      "cell_type": "code",
      "metadata": {
        "colab": {
          "base_uri": "https://localhost:8080/"
        },
        "id": "rFcN93oZPyY-",
        "outputId": "3129277b-e138-477d-d9e6-351b3e6346a9"
      },
      "source": [
        "test_loss, test_accuracy = model.evaluate(data_test_norm, labels_test, verbose = 0)\n",
        "print('The accuracy on the test set is equal to: ', int(test_accuracy*100), '%.')"
      ],
      "execution_count": null,
      "outputs": [
        {
          "output_type": "stream",
          "text": [
            "The accuracy on the test set is equal to:  88 %.\n"
          ],
          "name": "stdout"
        }
      ]
    },
    {
      "cell_type": "markdown",
      "metadata": {
        "id": "_KpgX4W8nCd8"
      },
      "source": [
        "## Exercises"
      ]
    },
    {
      "cell_type": "markdown",
      "metadata": {
        "id": "3J38NJG0nQRB"
      },
      "source": [
        "1. [*Easy Difficulty*] Try to build a multiclass classification model like the one we saw together in this notebook, but with a different dataset, the MNIST database of handwritten digits (http://yann.lecun.com/exdb/mnist/). To download the dataset from TensorFlow use the following lines of code:\n",
        "```\n",
        "from tensorflow import keras\n",
        "(x_train, y_train), (x_test, y_test) = keras.datasets.mnist.load_data()\n",
        "```\n",
        "2. [*Medium Difficulty*] Try to change the network's parameters to see if you can get a higher accuracy. Change kernel size, stride, and padding."
      ]
    },
    {
      "cell_type": "markdown",
      "metadata": {
        "id": "mDgjWwv5nHwH"
      },
      "source": [
        "## Further Readings"
      ]
    },
    {
      "cell_type": "markdown",
      "metadata": {
        "id": "OTbDJqUjnFvl"
      },
      "source": [
        "**Fashion-MNIST dataset**\n",
        "\n",
        "1. Xiao, Han, Kashif Rasul, and Roland Vollgraf. \"Fashion-mnist: a novel image dataset for benchmarking machine learning algorithms.\" arXiv preprint arXiv:1708.07747 (2017)\n",
        "\n",
        "**One-hot encoding, integer encoding, softmax function**\n",
        "\n",
        "1. https://deepai.org/machine-learning-glossary-and-terms/one-hot-encoding (what one-hot encoding means)\n",
        "2. https://towardsdatascience.com/softmax-activation-function-how-it-actually-works-d292d335bd78 (why we need to use softmax function and the difference between one-hot encoding and integer encoding)"
      ]
    },
    {
      "cell_type": "code",
      "metadata": {
        "id": "4XLbzXl-lBTq"
      },
      "source": [],
      "execution_count": null,
      "outputs": []
    }
  ]
}