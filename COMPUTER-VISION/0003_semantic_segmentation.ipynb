{
  "nbformat": 4,
  "nbformat_minor": 0,
  "metadata": {
    "colab": {
      "provenance": []
    },
    "kernelspec": {
      "name": "python3",
      "display_name": "Python 3"
    },
    "language_info": {
      "name": "python"
    }
  },
  "cells": [
    {
      "cell_type": "markdown",
      "source": [
        "# Semantic Segmentation\n",
        "\n",
        "--- Alessandro Motta, 2nd of November 2023"
      ],
      "metadata": {
        "id": "8_BTsOnAHeB4"
      }
    },
    {
      "cell_type": "code",
      "source": [
        "import matplotlib.pyplot as plt\n",
        "import numpy as np\n",
        "\n",
        "from tensorflow.keras import layers, models, Model"
      ],
      "metadata": {
        "id": "LhZ1qV1y2bhY"
      },
      "execution_count": 43,
      "outputs": []
    },
    {
      "cell_type": "code",
      "execution_count": 5,
      "metadata": {
        "colab": {
          "base_uri": "https://localhost:8080/"
        },
        "id": "oC-5Nguf1e8C",
        "outputId": "5936e324-b054-48bd-c1a8-a9cd7c81f0fe"
      },
      "outputs": [
        {
          "output_type": "stream",
          "name": "stdout",
          "text": [
            "  % Total    % Received % Xferd  Average Speed   Time    Time     Time  Current\n",
            "                                 Dload  Upload   Total   Spent    Left  Speed\n",
            "  0     0    0     0    0     0      0      0 --:--:-- --:--:-- --:--:--     0\n",
            "100 12.2M  100 12.2M    0     0  30.4M      0 --:--:-- --:--:-- --:--:-- 30.4M\n",
            "Archive:  /tmp/m2nist.zip\n",
            "  inflating: /tmp/m2nist/combined.npy  \n",
            "  inflating: /tmp/m2nist/segmented.npy  \n"
          ]
        }
      ],
      "source": [
        "# Get the data\n",
        "!curl -L https://github.com/michelucci/HSLU-CASML2-Deep_Learning/raw/semantic-segmentation/COMPUTER-VISION/datasets/m2nist.zip -o /tmp/m2nist.zip\n",
        "!unzip /tmp/m2nist.zip -d /tmp/m2nist"
      ]
    },
    {
      "cell_type": "markdown",
      "source": [
        "## Load and Inspect Data"
      ],
      "metadata": {
        "id": "vqWF5YnB2g_r"
      }
    },
    {
      "cell_type": "code",
      "source": [
        "images = np.load('/tmp/m2nist/combined.npy')\n",
        "segmentations = np.load('/tmp/m2nist/segmented.npy')\n",
        "\n",
        "images = images.astype(dtype=np.float32) / 255 # from 0-255 to 0-1\n",
        "segmentations = segmentations.astype(dtype=np.float32) # 0, 1\n",
        "\n",
        "# TODO(amotta): Split into training and test set\n",
        "# TODO(amotta): Downsample?"
      ],
      "metadata": {
        "id": "qH0qqKup1zkA"
      },
      "execution_count": 54,
      "outputs": []
    },
    {
      "cell_type": "code",
      "source": [
        "images.shape\n",
        "segmentations.shape"
      ],
      "metadata": {
        "colab": {
          "base_uri": "https://localhost:8080/"
        },
        "id": "GVAmnaqe4Z3J",
        "outputId": "59a8adfd-9464-4b15-a6e1-762bdfdb617a"
      },
      "execution_count": 55,
      "outputs": [
        {
          "output_type": "execute_result",
          "data": {
            "text/plain": [
              "(5000, 64, 84, 11)"
            ]
          },
          "metadata": {},
          "execution_count": 55
        }
      ]
    },
    {
      "cell_type": "markdown",
      "source": [
        "## Build U-Net-like Model"
      ],
      "metadata": {
        "id": "uQ7I2RrEHY8U"
      }
    },
    {
      "cell_type": "code",
      "source": [
        "def build_down(input, num_features):\n",
        "  x = input\n",
        "  outputs = []\n",
        "  for level, features in enumerate(num_features):\n",
        "    if level > 0:\n",
        "      x = layers.MaxPooling2D(pool_size = (2, 2), strides = (2, 2))(x)\n",
        "    x = layers.Conv2D(features, (5, 5), strides = (1, 1), activation = 'relu', padding='same')(x)\n",
        "    x = layers.BatchNormalization(axis = 3)(x)\n",
        "    outputs.append(x)\n",
        "  return outputs\n",
        "\n",
        "def build_up(down, num_outputs):\n",
        "  x = down[-1]\n",
        "  for level, skip in reversed(list(enumerate(down[:-1]))):\n",
        "    x = layers.UpSampling2D(size = (2, 2), interpolation = 'nearest')(x)\n",
        "    x = layers.Concatenate(axis = 3)([x, skip])\n",
        "\n",
        "    if level > 0:\n",
        "      x = layers.Conv2D(skip.shape[-1], (5, 5), strides = (1, 1), activation = 'relu', padding = 'same')(x)\n",
        "      x = layers.BatchNormalization(axis = 3)(x)\n",
        "    else:\n",
        "      x = layers.Conv2D(num_outputs, (1, 1), activation = 'sigmoid')(x)\n",
        "\n",
        "  return x\n",
        "\n",
        "def build_model(input_shape, num_features, num_outputs):\n",
        "  input = layers.Input(shape=input_shape)\n",
        "  down = build_down(input, num_features)\n",
        "  output = build_up(down, num_outputs)\n",
        "\n",
        "  model = Model(inputs=input, outputs=output)\n",
        "  model.compile(loss = 'binary_focal_crossentropy', optimizer = 'adam')\n",
        "  return model\n",
        "\n",
        "model = build_model([64, 84, 1], [12, 12, 12], 11)"
      ],
      "metadata": {
        "id": "j639HlPg2aHZ"
      },
      "execution_count": 119,
      "outputs": []
    },
    {
      "cell_type": "code",
      "source": [
        "model.summary()"
      ],
      "metadata": {
        "colab": {
          "base_uri": "https://localhost:8080/"
        },
        "id": "15llK0xp2l0C",
        "outputId": "f6d5aa1c-c1e1-4cea-d620-b05367f2a4fe"
      },
      "execution_count": 120,
      "outputs": [
        {
          "output_type": "stream",
          "name": "stdout",
          "text": [
            "Model: \"model_12\"\n",
            "__________________________________________________________________________________________________\n",
            " Layer (type)                Output Shape                 Param #   Connected to                  \n",
            "==================================================================================================\n",
            " input_32 (InputLayer)       [(None, 64, 84, 1)]          0         []                            \n",
            "                                                                                                  \n",
            " conv2d_129 (Conv2D)         (None, 64, 84, 12)           312       ['input_32[0][0]']            \n",
            "                                                                                                  \n",
            " batch_normalization_69 (Ba  (None, 64, 84, 12)           48        ['conv2d_129[0][0]']          \n",
            " tchNormalization)                                                                                \n",
            "                                                                                                  \n",
            " max_pooling2d_53 (MaxPooli  (None, 32, 42, 12)           0         ['batch_normalization_69[0][0]\n",
            " ng2D)                                                              ']                            \n",
            "                                                                                                  \n",
            " conv2d_130 (Conv2D)         (None, 32, 42, 12)           3612      ['max_pooling2d_53[0][0]']    \n",
            "                                                                                                  \n",
            " batch_normalization_70 (Ba  (None, 32, 42, 12)           48        ['conv2d_130[0][0]']          \n",
            " tchNormalization)                                                                                \n",
            "                                                                                                  \n",
            " max_pooling2d_54 (MaxPooli  (None, 16, 21, 12)           0         ['batch_normalization_70[0][0]\n",
            " ng2D)                                                              ']                            \n",
            "                                                                                                  \n",
            " conv2d_131 (Conv2D)         (None, 16, 21, 12)           3612      ['max_pooling2d_54[0][0]']    \n",
            "                                                                                                  \n",
            " batch_normalization_71 (Ba  (None, 16, 21, 12)           48        ['conv2d_131[0][0]']          \n",
            " tchNormalization)                                                                                \n",
            "                                                                                                  \n",
            " up_sampling2d_39 (UpSampli  (None, 32, 42, 12)           0         ['batch_normalization_71[0][0]\n",
            " ng2D)                                                              ']                            \n",
            "                                                                                                  \n",
            " concatenate_42 (Concatenat  (None, 32, 42, 24)           0         ['up_sampling2d_39[0][0]',    \n",
            " e)                                                                  'batch_normalization_70[0][0]\n",
            "                                                                    ']                            \n",
            "                                                                                                  \n",
            " conv2d_132 (Conv2D)         (None, 32, 42, 12)           7212      ['concatenate_42[0][0]']      \n",
            "                                                                                                  \n",
            " batch_normalization_72 (Ba  (None, 32, 42, 12)           48        ['conv2d_132[0][0]']          \n",
            " tchNormalization)                                                                                \n",
            "                                                                                                  \n",
            " up_sampling2d_40 (UpSampli  (None, 64, 84, 12)           0         ['batch_normalization_72[0][0]\n",
            " ng2D)                                                              ']                            \n",
            "                                                                                                  \n",
            " concatenate_43 (Concatenat  (None, 64, 84, 24)           0         ['up_sampling2d_40[0][0]',    \n",
            " e)                                                                  'batch_normalization_69[0][0]\n",
            "                                                                    ']                            \n",
            "                                                                                                  \n",
            " conv2d_133 (Conv2D)         (None, 64, 84, 11)           275       ['concatenate_43[0][0]']      \n",
            "                                                                                                  \n",
            "==================================================================================================\n",
            "Total params: 15215 (59.43 KB)\n",
            "Trainable params: 15119 (59.06 KB)\n",
            "Non-trainable params: 96 (384.00 Byte)\n",
            "__________________________________________________________________________________________________\n"
          ]
        }
      ]
    },
    {
      "cell_type": "code",
      "source": [
        "EPOCHS = 10\n",
        "history = model.fit(\n",
        "  images, segmentations,\n",
        "  epochs = EPOCHS, verbose = 1,\n",
        "  batch_size = 32)"
      ],
      "metadata": {
        "colab": {
          "base_uri": "https://localhost:8080/"
        },
        "id": "vvEg066Z7ssW",
        "outputId": "63b873f1-7e0e-4769-fab4-39d82d6a9db5"
      },
      "execution_count": 121,
      "outputs": [
        {
          "output_type": "stream",
          "name": "stdout",
          "text": [
            "Epoch 1/10\n",
            "157/157 [==============================] - 85s 527ms/step - loss: 0.1254\n",
            "Epoch 2/10\n",
            "157/157 [==============================] - 85s 540ms/step - loss: 0.0223\n",
            "Epoch 3/10\n",
            "157/157 [==============================] - 84s 533ms/step - loss: 0.0084\n",
            "Epoch 4/10\n",
            "157/157 [==============================] - 83s 532ms/step - loss: 0.0056\n",
            "Epoch 5/10\n",
            "157/157 [==============================] - 83s 529ms/step - loss: 0.0043\n",
            "Epoch 6/10\n",
            "157/157 [==============================] - 87s 552ms/step - loss: 0.0036\n",
            "Epoch 7/10\n",
            "157/157 [==============================] - 83s 526ms/step - loss: 0.0030\n",
            "Epoch 8/10\n",
            "157/157 [==============================] - 84s 535ms/step - loss: 0.0027\n",
            "Epoch 9/10\n",
            "157/157 [==============================] - 83s 531ms/step - loss: 0.0024\n",
            "Epoch 10/10\n",
            "157/157 [==============================] - 84s 538ms/step - loss: 0.0022\n"
          ]
        }
      ]
    },
    {
      "cell_type": "code",
      "source": [
        "image = images[0]\n",
        "preds = model.predict(np.expand_dims(image, axis=0))[0]\n",
        "preds = np.split(preds, preds.shape[-1], axis=preds.ndim-1)\n",
        "\n",
        "plt.figure(figsize=(12, 3))\n",
        "plt.subplot(1, 12, 1)\n",
        "plt.imshow(image, cmap='gray')\n",
        "\n",
        "for i, pred in enumerate(preds):\n",
        "  plt.subplot(1, 12, 2+i)\n",
        "\n",
        "  plt.title(str(i) if i < 10 else \"BG\")\n",
        "  plt.imshow(pred, cmap='gray', vmin=0, vmax=1)\n",
        "\n",
        "plt.show()"
      ],
      "metadata": {
        "colab": {
          "base_uri": "https://localhost:8080/",
          "height": 149
        },
        "id": "hYmZE15ACfNs",
        "outputId": "53d50c2d-c00a-4057-8635-7b654ab9aba9"
      },
      "execution_count": 128,
      "outputs": [
        {
          "output_type": "stream",
          "name": "stdout",
          "text": [
            "1/1 [==============================] - 0s 49ms/step\n"
          ]
        },
        {
          "output_type": "display_data",
          "data": {
            "text/plain": [
              "<Figure size 1200x300 with 12 Axes>"
            ],
            "image/png": "[encoded data removed]"
          },
          "metadata": {}
        }
      ]
    },
    {
      "cell_type": "code",
      "source": [],
      "metadata": {
        "id": "wO5jAQcHDltr"
      },
      "execution_count": null,
      "outputs": []
    }
  ]
}