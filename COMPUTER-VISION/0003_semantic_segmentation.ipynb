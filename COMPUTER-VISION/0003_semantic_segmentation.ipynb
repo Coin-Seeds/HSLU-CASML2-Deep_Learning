{
  "nbformat": 4,
  "nbformat_minor": 0,
  "metadata": {
    "colab": {
      "provenance": []
    },
    "kernelspec": {
      "name": "python3",
      "display_name": "Python 3"
    },
    "language_info": {
      "name": "python"
    }
  },
  "cells": [
    {
      "cell_type": "markdown",
      "source": [
        "# Semantic Segmentation\n",
        "\n",
        "--- Alessandro Motta, 2nd of November 2023"
      ],
      "metadata": {
        "id": "8_BTsOnAHeB4"
      }
    },
    {
      "cell_type": "code",
      "source": [
        "import matplotlib.pyplot as plt\n",
        "import numpy as np\n",
        "\n",
        "from tensorflow.keras import layers, models, Model"
      ],
      "metadata": {
        "id": "LhZ1qV1y2bhY"
      },
      "execution_count": 1,
      "outputs": []
    },
    {
      "cell_type": "code",
      "execution_count": 2,
      "metadata": {
        "colab": {
          "base_uri": "https://localhost:8080/"
        },
        "id": "oC-5Nguf1e8C",
        "outputId": "12eec23d-83bd-4015-bde7-a28e7ca04f2f"
      },
      "outputs": [
        {
          "output_type": "stream",
          "name": "stdout",
          "text": [
            "  % Total    % Received % Xferd  Average Speed   Time    Time     Time  Current\n",
            "                                 Dload  Upload   Total   Spent    Left  Speed\n",
            "  0     0    0     0    0     0      0      0 --:--:-- --:--:-- --:--:--     0\n",
            "100 12.2M  100 12.2M    0     0  9483k      0  0:00:01  0:00:01 --:--:-- 26.9M\n",
            "Archive:  /tmp/m2nist.zip\n",
            "  inflating: /tmp/m2nist/combined.npy  \n",
            "  inflating: /tmp/m2nist/segmented.npy  \n"
          ]
        }
      ],
      "source": [
        "# Get the data\n",
        "!curl -L https://github.com/michelucci/HSLU-CASML2-Deep_Learning/raw/main/COMPUTER-VISION/datasets/m2nist.zip -o /tmp/m2nist.zip\n",
        "!unzip /tmp/m2nist.zip -d /tmp/m2nist"
      ]
    },
    {
      "cell_type": "markdown",
      "source": [
        "## Load and Inspect Data"
      ],
      "metadata": {
        "id": "vqWF5YnB2g_r"
      }
    },
    {
      "cell_type": "code",
      "source": [
        "images = np.load('/tmp/m2nist/combined.npy')\n",
        "segmentations = np.load('/tmp/m2nist/segmented.npy')\n",
        "\n",
        "images = images.astype(dtype=np.float32) / 255 # from 0-255 to 0-1\n",
        "segmentations = segmentations.astype(dtype=np.float32) # 0, 1\n",
        "\n",
        "# Splitting into training and test sets\n",
        "train_mask = np.random.uniform(size=len(images)) < 0.75\n",
        "\n",
        "train_images = images[train_mask]\n",
        "train_segmentations = segmentations[train_mask]\n",
        "\n",
        "test_images = images[~train_mask]\n",
        "test_segmentations = segmentations[~train_mask]\n",
        "\n",
        "del images\n",
        "del segmentations"
      ],
      "metadata": {
        "id": "qH0qqKup1zkA"
      },
      "execution_count": 3,
      "outputs": []
    },
    {
      "cell_type": "code",
      "source": [
        "train_images.shape\n",
        "train_segmentations.shape"
      ],
      "metadata": {
        "colab": {
          "base_uri": "https://localhost:8080/"
        },
        "id": "GVAmnaqe4Z3J",
        "outputId": "b9e9fe49-00ba-4fbf-e68d-1b27b3995a1a"
      },
      "execution_count": 4,
      "outputs": [
        {
          "output_type": "execute_result",
          "data": {
            "text/plain": [
              "(3807, 64, 84, 11)"
            ]
          },
          "metadata": {},
          "execution_count": 4
        }
      ]
    },
    {
      "cell_type": "markdown",
      "source": [
        "## Build U-Net-like Model"
      ],
      "metadata": {
        "id": "uQ7I2RrEHY8U"
      }
    },
    {
      "cell_type": "code",
      "source": [
        "def build_down(input, num_features):\n",
        "  x = input\n",
        "  outputs = []\n",
        "  for level, features in enumerate(num_features):\n",
        "    if level > 0:\n",
        "      x = layers.MaxPooling2D(pool_size = (2, 2), strides = (2, 2))(x)\n",
        "    x = layers.Conv2D(features, (5, 5), strides = (1, 1), activation = 'relu', padding='same')(x)\n",
        "    x = layers.BatchNormalization(axis = 3)(x)\n",
        "    outputs.append(x)\n",
        "  return outputs\n",
        "\n",
        "def build_up(down, num_outputs):\n",
        "  x = down[-1]\n",
        "  for level, skip in reversed(list(enumerate(down[:-1]))):\n",
        "    x = layers.UpSampling2D(size = (2, 2), interpolation = 'nearest')(x)\n",
        "    x = layers.Concatenate(axis = 3)([x, skip])\n",
        "\n",
        "    if level > 0:\n",
        "      x = layers.Conv2D(skip.shape[-1], (5, 5), strides = (1, 1), activation = 'relu', padding = 'same')(x)\n",
        "      x = layers.BatchNormalization(axis = 3)(x)\n",
        "    else:\n",
        "      x = layers.Conv2D(num_outputs, (1, 1), activation = 'sigmoid')(x)\n",
        "\n",
        "  return x\n",
        "\n",
        "def build_model(input_shape, num_features, num_outputs):\n",
        "  input = layers.Input(shape=input_shape)\n",
        "  down = build_down(input, num_features)\n",
        "  output = build_up(down, num_outputs)\n",
        "\n",
        "  model = Model(inputs=input, outputs=output)\n",
        "  model.compile(loss = 'binary_focal_crossentropy', optimizer = 'adam')\n",
        "  return model\n",
        "\n",
        "model = build_model([64, 84, 1], [12, 12, 12], 11)"
      ],
      "metadata": {
        "id": "j639HlPg2aHZ"
      },
      "execution_count": 5,
      "outputs": []
    },
    {
      "cell_type": "code",
      "source": [
        "model.summary()"
      ],
      "metadata": {
        "colab": {
          "base_uri": "https://localhost:8080/"
        },
        "id": "15llK0xp2l0C",
        "outputId": "6657d469-f43d-454f-ac9e-b40a62663ae0"
      },
      "execution_count": 6,
      "outputs": [
        {
          "output_type": "stream",
          "name": "stdout",
          "text": [
            "Model: \"model\"\n",
            "__________________________________________________________________________________________________\n",
            " Layer (type)                Output Shape                 Param #   Connected to                  \n",
            "==================================================================================================\n",
            " input_1 (InputLayer)        [(None, 64, 84, 1)]          0         []                            \n",
            "                                                                                                  \n",
            " conv2d (Conv2D)             (None, 64, 84, 12)           312       ['input_1[0][0]']             \n",
            "                                                                                                  \n",
            " batch_normalization (Batch  (None, 64, 84, 12)           48        ['conv2d[0][0]']              \n",
            " Normalization)                                                                                   \n",
            "                                                                                                  \n",
            " max_pooling2d (MaxPooling2  (None, 32, 42, 12)           0         ['batch_normalization[0][0]'] \n",
            " D)                                                                                               \n",
            "                                                                                                  \n",
            " conv2d_1 (Conv2D)           (None, 32, 42, 12)           3612      ['max_pooling2d[0][0]']       \n",
            "                                                                                                  \n",
            " batch_normalization_1 (Bat  (None, 32, 42, 12)           48        ['conv2d_1[0][0]']            \n",
            " chNormalization)                                                                                 \n",
            "                                                                                                  \n",
            " max_pooling2d_1 (MaxPoolin  (None, 16, 21, 12)           0         ['batch_normalization_1[0][0]'\n",
            " g2D)                                                               ]                             \n",
            "                                                                                                  \n",
            " conv2d_2 (Conv2D)           (None, 16, 21, 12)           3612      ['max_pooling2d_1[0][0]']     \n",
            "                                                                                                  \n",
            " batch_normalization_2 (Bat  (None, 16, 21, 12)           48        ['conv2d_2[0][0]']            \n",
            " chNormalization)                                                                                 \n",
            "                                                                                                  \n",
            " up_sampling2d (UpSampling2  (None, 32, 42, 12)           0         ['batch_normalization_2[0][0]'\n",
            " D)                                                                 ]                             \n",
            "                                                                                                  \n",
            " concatenate (Concatenate)   (None, 32, 42, 24)           0         ['up_sampling2d[0][0]',       \n",
            "                                                                     'batch_normalization_1[0][0]'\n",
            "                                                                    ]                             \n",
            "                                                                                                  \n",
            " conv2d_3 (Conv2D)           (None, 32, 42, 12)           7212      ['concatenate[0][0]']         \n",
            "                                                                                                  \n",
            " batch_normalization_3 (Bat  (None, 32, 42, 12)           48        ['conv2d_3[0][0]']            \n",
            " chNormalization)                                                                                 \n",
            "                                                                                                  \n",
            " up_sampling2d_1 (UpSamplin  (None, 64, 84, 12)           0         ['batch_normalization_3[0][0]'\n",
            " g2D)                                                               ]                             \n",
            "                                                                                                  \n",
            " concatenate_1 (Concatenate  (None, 64, 84, 24)           0         ['up_sampling2d_1[0][0]',     \n",
            " )                                                                   'batch_normalization[0][0]'] \n",
            "                                                                                                  \n",
            " conv2d_4 (Conv2D)           (None, 64, 84, 11)           275       ['concatenate_1[0][0]']       \n",
            "                                                                                                  \n",
            "==================================================================================================\n",
            "Total params: 15215 (59.43 KB)\n",
            "Trainable params: 15119 (59.06 KB)\n",
            "Non-trainable params: 96 (384.00 Byte)\n",
            "__________________________________________________________________________________________________\n"
          ]
        }
      ]
    },
    {
      "cell_type": "code",
      "source": [
        "EPOCHS = 15\n",
        "history = model.fit(\n",
        "  train_images, train_segmentations,\n",
        "  epochs = EPOCHS, verbose = 1,\n",
        "  batch_size = 32)"
      ],
      "metadata": {
        "colab": {
          "base_uri": "https://localhost:8080/"
        },
        "id": "vvEg066Z7ssW",
        "outputId": "eaa66cd0-7489-4fcb-f9ee-e06878af051f"
      },
      "execution_count": 7,
      "outputs": [
        {
          "output_type": "stream",
          "name": "stdout",
          "text": [
            "Epoch 1/15\n",
            "119/119 [==============================] - 63s 514ms/step - loss: 0.1578\n",
            "Epoch 2/15\n",
            "119/119 [==============================] - 62s 519ms/step - loss: 0.0516\n",
            "Epoch 3/15\n",
            "119/119 [==============================] - 60s 503ms/step - loss: 0.0160\n",
            "Epoch 4/15\n",
            "119/119 [==============================] - 61s 508ms/step - loss: 0.0090\n",
            "Epoch 5/15\n",
            "119/119 [==============================] - 61s 510ms/step - loss: 0.0069\n",
            "Epoch 6/15\n",
            "119/119 [==============================] - 60s 503ms/step - loss: 0.0058\n",
            "Epoch 7/15\n",
            "119/119 [==============================] - 61s 514ms/step - loss: 0.0050\n",
            "Epoch 8/15\n",
            "119/119 [==============================] - 59s 496ms/step - loss: 0.0044\n",
            "Epoch 9/15\n",
            "119/119 [==============================] - 60s 500ms/step - loss: 0.0039\n",
            "Epoch 10/15\n",
            "119/119 [==============================] - 61s 513ms/step - loss: 0.0034\n",
            "Epoch 11/15\n",
            "119/119 [==============================] - 61s 516ms/step - loss: 0.0031\n",
            "Epoch 12/15\n",
            "119/119 [==============================] - 61s 507ms/step - loss: 0.0028\n",
            "Epoch 13/15\n",
            "119/119 [==============================] - 62s 522ms/step - loss: 0.0026\n",
            "Epoch 14/15\n",
            "119/119 [==============================] - 61s 516ms/step - loss: 0.0024\n",
            "Epoch 15/15\n",
            "119/119 [==============================] - 63s 530ms/step - loss: 0.0022\n"
          ]
        }
      ]
    },
    {
      "cell_type": "code",
      "source": [
        "image = test_images[19]\n",
        "preds = model.predict(np.expand_dims(image, axis=0))[0]\n",
        "preds = np.split(preds, preds.shape[-1], axis=preds.ndim-1)\n",
        "\n",
        "plt.figure(figsize=(12, 3))\n",
        "plt.subplot(1, 12, 1)\n",
        "plt.imshow(image, cmap='gray')\n",
        "plt.gca().set_axis_off()\n",
        "\n",
        "for i, pred in enumerate(preds):\n",
        "  plt.subplot(1, 12, 2+i)\n",
        "\n",
        "  plt.title(str(i) if i < 10 else \"BG\")\n",
        "  plt.imshow(pred, cmap='gray', vmin=0, vmax=1)\n",
        "  plt.gca().set_axis_off()\n",
        "\n",
        "plt.show()"
      ],
      "metadata": {
        "colab": {
          "base_uri": "https://localhost:8080/",
          "height": 126
        },
        "id": "hYmZE15ACfNs",
        "outputId": "8983a803-e2fa-439c-a64e-3f4b1e8c23f9"
      },
      "execution_count": 8,
      "outputs": [
        {
          "output_type": "stream",
          "name": "stdout",
          "text": [
            "1/1 [==============================] - 0s 225ms/step\n"
          ]
        },
        {
          "output_type": "display_data",
          "data": {
            "text/plain": [
              "<Figure size 1200x300 with 12 Axes>"
            ],
            "image/png": "[encoded data removed]"
          },
          "metadata": {}
        }
      ]
    },
    {
      "cell_type": "code",
      "source": [],
      "metadata": {
        "id": "7gnxCYtHk0LC"
      },
      "execution_count": 8,
      "outputs": []
    }
  ]
}